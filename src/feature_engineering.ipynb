{
  "nbformat": 4,
  "nbformat_minor": 0,
  "metadata": {
    "colab": {
      "provenance": []
    },
    "kernelspec": {
      "name": "python3",
      "display_name": "Python 3"
    },
    "language_info": {
      "name": "python"
    }
  },
  "cells": [
    {
      "cell_type": "markdown",
      "source": [
        "# Setup and Data Loading"
      ],
      "metadata": {
        "id": "wUg7UnDgpmMe"
      }
    },
    {
      "cell_type": "code",
      "source": [
        "# Mount Google Drive\n",
        "from google.colab import drive\n",
        "drive.mount('/content/drive')"
      ],
      "metadata": {
        "colab": {
          "base_uri": "https://localhost:8080/"
        },
        "id": "wIiuRMnsrcMs",
        "outputId": "545ef6bb-dcea-4aaf-fd35-d4e12a127bf3"
      },
      "execution_count": 1,
      "outputs": [
        {
          "output_type": "stream",
          "name": "stdout",
          "text": [
            "Mounted at /content/drive\n"
          ]
        }
      ]
    },
    {
      "cell_type": "code",
      "execution_count": 2,
      "metadata": {
        "colab": {
          "base_uri": "https://localhost:8080/"
        },
        "id": "ReBkI9e0pj31",
        "outputId": "201b4991-44d8-4586-a7c2-eb42cd433495"
      },
      "outputs": [
        {
          "output_type": "stream",
          "name": "stdout",
          "text": [
            "✅ Data loaded successfully!\n",
            "Training data shape: (15788, 39)\n",
            "Test data shape: (3947, 39)\n"
          ]
        }
      ],
      "source": [
        "# Import required libraries for feature engineering\n",
        "import pandas as pd\n",
        "import numpy as np\n",
        "import matplotlib.pyplot as plt\n",
        "import seaborn as sns\n",
        "from sklearn.feature_selection import RFE, SelectKBest, f_regression\n",
        "from sklearn.ensemble import RandomForestRegressor\n",
        "from sklearn.preprocessing import PolynomialFeatures\n",
        "import warnings\n",
        "warnings.filterwarnings('ignore')\n",
        "\n",
        "\n",
        "# Define file paths (update this with your actual folder path in Drive)\n",
        "train_path = '/content/drive/MyDrive/AI_ML_datasets/Processes_data/train_data_preprocessed.csv'\n",
        "test_path = '/content/drive/MyDrive/AI_ML_datasets/Processes_data/test_data_preprocessed.csv'\n",
        "\n",
        "# Load the preprocessed data\n",
        "train_data = pd.read_csv(train_path)\n",
        "test_data = pd.read_csv(test_path)\n",
        "\n",
        "# Convert date columns back to datetime\n",
        "train_data['date'] = pd.to_datetime(train_data['date'])\n",
        "test_data['date'] = pd.to_datetime(test_data['date'])\n",
        "\n",
        "\n",
        "\n",
        "print(\"✅ Data loaded successfully!\")\n",
        "print(f\"Training data shape: {train_data.shape}\")\n",
        "print(f\"Test data shape: {test_data.shape}\")\n"
      ]
    },
    {
      "cell_type": "markdown",
      "source": [
        "# Enhanced Time-Based Features"
      ],
      "metadata": {
        "id": "QbR35HTGr8tK"
      }
    },
    {
      "cell_type": "code",
      "source": [
        "# Enhanced Time-Based Feature Engineering\n",
        "print(\"=== ENHANCED TIME-BASED FEATURES ===\")\n",
        "\n",
        "def create_advanced_time_features(df):\n",
        "    \"\"\"Create comprehensive time-based features\"\"\"\n",
        "    df = df.copy()\n",
        "\n",
        "    # Basic time features (already exist, but let's enhance them)\n",
        "    df['hour_sin'] = np.sin(2 * np.pi * df['hour'] / 24)\n",
        "    df['hour_cos'] = np.cos(2 * np.pi * df['hour'] / 24)\n",
        "    df['day_sin'] = np.sin(2 * np.pi * df['day'] / 31)\n",
        "    df['day_cos'] = np.cos(2 * np.pi * df['day'] / 31)\n",
        "    df['month_sin'] = np.sin(2 * np.pi * df['month'] / 12)\n",
        "    df['month_cos'] = np.cos(2 * np.pi * df['month'] / 12)\n",
        "\n",
        "    #Purpose: Standard time values like hour, day, and month are cyclical , which cannot be captured well by linear models.\n",
        "    #Impact: Helps models recognize periodic trends in energy usage.\n",
        "\n",
        "\n",
        "    # Time of day categories\n",
        "    df['time_of_day'] = pd.cut(df['hour'],\n",
        "                               bins=[0, 6, 12, 18, 24],\n",
        "                               labels=['Night', 'Morning', 'Afternoon', 'Evening'],\n",
        "                               include_lowest=True)\n",
        "    #Purpose: Group hours into broader periods to represent user behavior patterns (e.g., night, morning, afternoon, evening).\n",
        "    #Impact: Adds categorical insight into activity levels based on hour blocks.\n",
        "\n",
        "    # Convert to dummy variables\n",
        "    time_dummies = pd.get_dummies(df['time_of_day'], prefix='time')\n",
        "    df = pd.concat([df, time_dummies], axis=1)\n",
        "    df.drop('time_of_day', axis=1, inplace=True)\n",
        "\n",
        "    # Working hours indicator\n",
        "    df['is_working_hours'] = ((df['hour'] >= 9) & (df['hour'] <= 17)).astype(int)\n",
        "\n",
        "    #Purpose: Distinguish between working hours (9 AM to 5 PM) and non-working hours.\n",
        "    #Impact: Captures behavioral differences during business hours.\n",
        "\n",
        "    # Peak energy hours (based on your EDA findings)\n",
        "    df['is_peak_energy'] = df['hour'].isin([17, 18, 19]).astype(int)\n",
        "\n",
        "    #Purpose: Tag hours of the day with high energy consumption based on prior EDA.\n",
        "    #Impact: Highlights periods when energy usage is typically highest.\n",
        "\n",
        "    # Weekend interaction with time\n",
        "    df['weekend_evening'] = (df['WeekStatus'] == 'Weekend') & (df['hour'].isin([18, 19, 20]))\n",
        "    df['weekend_evening'] = df['weekend_evening'].astype(int)\n",
        "\n",
        "    #Purpose: Capture combined effects of weekend and evening time, which may reflect distinct usage behaviors (e.g., family activity time).\n",
        "    #Impact: Represents special case scenarios that might affect energy consumption patterns.\n",
        "\n",
        "    return df\n",
        "\n",
        "# Apply to both datasets\n",
        "train_data = create_advanced_time_features(train_data)\n",
        "test_data = create_advanced_time_features(test_data)\n",
        "\n",
        "print(\" Advanced time features created:\")\n",
        "new_time_features = ['hour_sin', 'hour_cos', 'day_sin', 'day_cos', 'month_sin', 'month_cos',\n",
        "                     'time_Afternoon', 'time_Evening', 'time_Morning', 'time_Night',\n",
        "                     'is_working_hours', 'is_peak_energy', 'weekend_evening']\n",
        "print(f\"   • {len(new_time_features)} new time-based features\")"
      ],
      "metadata": {
        "colab": {
          "base_uri": "https://localhost:8080/"
        },
        "id": "lw9Gn5fLr-JB",
        "outputId": "14c56410-2c8a-43c6-e9d6-841a45da9f87"
      },
      "execution_count": 3,
      "outputs": [
        {
          "output_type": "stream",
          "name": "stdout",
          "text": [
            "=== ENHANCED TIME-BASED FEATURES ===\n",
            " Advanced time features created:\n",
            "   • 13 new time-based features\n"
          ]
        }
      ]
    },
    {
      "cell_type": "markdown",
      "source": [
        "In this step, we developed advanced time-based features to capture temporal patterns in energy consumption more effectively. We applied cyclical encoding using sine and cosine transformations for the hour, day, and month to reflect the continuous nature of time. To capture broader behavioral patterns, we categorized the day into time segments—Morning, Afternoon, Evening, and Night—and encoded them using one-hot encoding. Additionally, we introduced business logic-based features such as a working hours indicator (9 AM–5 PM), peak energy hour flags (5 PM–7 PM), and a weekend evening interaction term (weekends between 6 PM–8 PM), based on insights derived from exploratory data analysis. In total, 13 new time-related features were created, which are expected to help the model better recognize consumption trends and improve predictive performance."
      ],
      "metadata": {
        "id": "FaLLv4_jvWtI"
      }
    },
    {
      "cell_type": "markdown",
      "source": [
        "# Rolling Averages and Moving Windows"
      ],
      "metadata": {
        "id": "JZvpbFvdvecn"
      }
    },
    {
      "cell_type": "code",
      "source": [
        "#Purpose: Create smoothed trend features using historical data patterns\n",
        "\n",
        "# Rolling Averages and Moving Window Features\n",
        "print(\"=== ROLLING AVERAGES AND MOVING WINDOWS ===\")\n",
        "\n",
        "def create_rolling_features(df, target_col='Appliances'):\n",
        "    \"\"\"Create rolling window statistical features\"\"\"\n",
        "    df = df.copy()\n",
        "    df = df.sort_values('date').reset_index(drop=True)\n",
        "\n",
        "    # Define window sizes (in 10-minute intervals)\n",
        "    # 1 hour = 6 intervals, 3 hours = 18 intervals, 6 hours = 36 intervals\n",
        "    windows = {\n",
        "        '1h': 6,    # 1 hour\n",
        "        '3h': 18,   # 3 hours\n",
        "        '6h': 36,   # 6 hours\n",
        "        '12h': 72,  # 12 hours\n",
        "        '24h': 144  # 24 hours\n",
        "    }\n",
        "\n",
        "    for window_name, window_size in windows.items():\n",
        "        # Rolling mean\n",
        "        df[f'{target_col}_rolling_mean_{window_name}'] = df[target_col].rolling(\n",
        "            window=window_size, min_periods=1).mean()\n",
        "\n",
        "        # Rolling standard deviation (volatility)\n",
        "        df[f'{target_col}_rolling_std_{window_name}'] = df[target_col].rolling(\n",
        "            window=window_size, min_periods=1).std()\n",
        "\n",
        "        # Rolling min and max\n",
        "        df[f'{target_col}_rolling_min_{window_name}'] = df[target_col].rolling(\n",
        "            window=window_size, min_periods=1).min()\n",
        "        df[f'{target_col}_rolling_max_{window_name}'] = df[target_col].rolling(\n",
        "            window=window_size, min_periods=1).max()\n",
        "\n",
        "    # Rolling features for key environmental variables\n",
        "    env_features = ['T1', 'T_out', 'RH_out', 'lights']\n",
        "    for feature in env_features:\n",
        "        if feature in df.columns:\n",
        "            # 3-hour rolling average for environmental features\n",
        "            df[f'{feature}_rolling_3h'] = df[feature].rolling(window=18, min_periods=1).mean()\n",
        "\n",
        "    return df\n",
        "\n",
        "# Apply rolling features to training data\n",
        "print(\"Creating rolling features for training data...\")\n",
        "train_data = create_rolling_features(train_data)\n",
        "\n",
        "# For test data, we need to be careful not to use future information\n",
        "print(\"Creating rolling features for test data...\")\n",
        "test_data = create_rolling_features(test_data)\n",
        "\n",
        "# Count new rolling features\n",
        "rolling_features = [col for col in train_data.columns if 'rolling' in col]\n",
        "print(f\" Created {len(rolling_features)} rolling window features\")\n",
        "print(\"Examples:\", rolling_features[:5])"
      ],
      "metadata": {
        "colab": {
          "base_uri": "https://localhost:8080/"
        },
        "id": "eflIWHscvf2I",
        "outputId": "8b904567-b532-47ba-9358-8b1211e33f31"
      },
      "execution_count": 4,
      "outputs": [
        {
          "output_type": "stream",
          "name": "stdout",
          "text": [
            "=== ROLLING AVERAGES AND MOVING WINDOWS ===\n",
            "Creating rolling features for training data...\n",
            "Creating rolling features for test data...\n",
            " Created 25 rolling window features\n",
            "Examples: ['rolling_mean', 'Appliances_rolling_mean_1h', 'Appliances_rolling_std_1h', 'Appliances_rolling_min_1h', 'Appliances_rolling_max_1h']\n"
          ]
        }
      ]
    },
    {
      "cell_type": "markdown",
      "source": [
        " we introduced 25 rolling window-based features to help the model capture consumption patterns over time. Rolling means were used to smooth short-term fluctuations and highlight underlying trends in energy use, while rolling standard deviation captured the volatility or stability in usage. By calculating these metrics across various time windows—from 1 hour to 24 hours—we allowed the model to understand both short-term variations and long-term patterns in appliance energy demand. Furthermore, applying rolling averages to key environmental variables helped reduce noise in the data and provided more reliable inputs. These moving window features significantly enrich the temporal context available to the model, boosting its ability to make accurate predictions."
      ],
      "metadata": {
        "id": "cFLHUmgEwewy"
      }
    },
    {
      "cell_type": "markdown",
      "source": [
        "# Autocorrelation Analysis for Optimal Lags"
      ],
      "metadata": {
        "id": "oWkzGIpKwvkp"
      }
    },
    {
      "cell_type": "code",
      "source": [
        "#Purpose: Scientifically determine which historical time points are most predictive\n",
        "\n",
        "# Autocorrelation Analysis for Lag Selection\n",
        "print(\"=== AUTOCORRELATION ANALYSIS FOR LAG SELECTION ===\")\n",
        "\n",
        "from statsmodels.tsa.stattools import acf\n",
        "from statsmodels.graphics.tsaplots import plot_acf\n",
        "\n",
        "# Calculate autocorrelation for the target variable\n",
        "max_lags = 144  # 24 hours worth of 10-minute intervals\n",
        "autocorrelations = acf(train_data['Appliances'], nlags=max_lags, fft=True)\n",
        "\n",
        "# Plot autocorrelation function\n",
        "plt.figure(figsize=(15, 6))\n",
        "plot_acf(train_data['Appliances'], lags=max_lags, alpha=0.05)\n",
        "plt.title('Autocorrelation Function of Appliances Energy Consumption')\n",
        "plt.xlabel('Lag (10-minute intervals)')\n",
        "plt.ylabel('Autocorrelation')\n",
        "plt.grid(True, alpha=0.3)\n",
        "plt.show()\n",
        "\n",
        "# Find significant lags (above confidence interval)\n",
        "confidence_interval = 1.96 / np.sqrt(len(train_data))  # 95% confidence\n",
        "significant_lags = []\n",
        "\n",
        "for lag in range(1, max_lags + 1):\n",
        "    if abs(autocorrelations[lag]) > confidence_interval:\n",
        "        significant_lags.append(lag)\n",
        "\n",
        "print(f\"Significant lags found: {len(significant_lags)}\")\n",
        "print(f\"Top 20 significant lags: {significant_lags[:20]}\")\n",
        "\n",
        "# Convert to time interpretations\n",
        "print(\"\\nTime interpretation of top lags:\")\n",
        "for lag in significant_lags[:10]:\n",
        "    minutes = lag * 10\n",
        "    hours = minutes // 60\n",
        "    mins = minutes % 60\n",
        "    print(f\"  Lag {lag}: {hours:2d}h {mins:2d}m ago (correlation: {autocorrelations[lag]:.3f})\")"
      ],
      "metadata": {
        "colab": {
          "base_uri": "https://localhost:8080/",
          "height": 750
        },
        "id": "ZhcAIiKUwg2q",
        "outputId": "10f13037-4e19-4ed3-fe67-064e8a9859a0"
      },
      "execution_count": 5,
      "outputs": [
        {
          "output_type": "stream",
          "name": "stdout",
          "text": [
            "=== AUTOCORRELATION ANALYSIS FOR LAG SELECTION ===\n"
          ]
        },
        {
          "output_type": "display_data",
          "data": {
            "text/plain": [
              "<Figure size 1500x600 with 0 Axes>"
            ]
          },
          "metadata": {}
        },
        {
          "output_type": "display_data",
          "data": {
            "text/plain": [
              "<Figure size 640x480 with 1 Axes>"
            ],
            "image/png": "[encoded data removed]"
          },
          "metadata": {}
        },
        {
          "output_type": "stream",
          "name": "stdout",
          "text": [
            "Significant lags found: 129\n",
            "Top 20 significant lags: [1, 2, 3, 4, 5, 6, 7, 8, 9, 10, 11, 12, 13, 14, 15, 16, 17, 18, 19, 20]\n",
            "\n",
            "Time interpretation of top lags:\n",
            "  Lag 1:  0h 10m ago (correlation: 0.767)\n",
            "  Lag 2:  0h 20m ago (correlation: 0.563)\n",
            "  Lag 3:  0h 30m ago (correlation: 0.461)\n",
            "  Lag 4:  0h 40m ago (correlation: 0.409)\n",
            "  Lag 5:  0h 50m ago (correlation: 0.374)\n",
            "  Lag 6:  1h  0m ago (correlation: 0.339)\n",
            "  Lag 7:  1h 10m ago (correlation: 0.306)\n",
            "  Lag 8:  1h 20m ago (correlation: 0.312)\n",
            "  Lag 9:  1h 30m ago (correlation: 0.337)\n",
            "  Lag 10:  1h 40m ago (correlation: 0.351)\n"
          ]
        }
      ]
    },
    {
      "cell_type": "markdown",
      "source": [
        "Autocorrelation analysis was conducted on the Appliances energy consumption data to identify significant lags that can be used as predictors in time series forecasting. The analysis computed autocorrelation values for lags up to 144, corresponding to 24 hours of past observations with 10-minute intervals.\n",
        "\n",
        "The autocorrelation function (ACF) plot reveals the strength of correlation between the current energy consumption and its past values at different time lags. A total of 129 significant lags were identified where the autocorrelation exceeds the 95% confidence interval threshold. Among these, the top 20 significant lags were found to have correlation coefficients ranging approximately from 0.77 to 0.35. The strongest correlation (0.767) was observed at lag 1, representing the previous 10 minutes.\n",
        "\n",
        "A time interpretation of the top significant lags indicates that energy consumption values from 10 minutes up to approximately 3 hours and 20 minutes ago maintain a meaningful relationship with the current values, with correlation gradually decreasing as the lag increases.\n",
        "\n",
        "Interpretation:\n",
        "\n",
        "This means that the past energy consumption data of Appliances up to about 21.5 hours ago (129 lags × 10 minutes) contain useful information for predicting the current energy consumption. Therefore, including these lagged values as input features in a predictive model can enhance forecasting accuracy by leveraging temporal dependencies in the data.\n",
        "\n"
      ],
      "metadata": {
        "id": "Ng4AQ7R80q2G"
      }
    },
    {
      "cell_type": "markdown",
      "source": [
        "# Create Lagged Features"
      ],
      "metadata": {
        "id": "oVL5TUkR1LEK"
      }
    },
    {
      "cell_type": "code",
      "source": [
        "# Purpose: Add historical energy consumption values as predictive features\n",
        "\n",
        "\n",
        "print(\"=== CREATING LAGGED FEATURES ===\")\n",
        "\n",
        "def create_lag_features(df, target_col='Appliances', selected_lags=None):\n",
        "    \"\"\"Create lagged features for time series prediction\"\"\"\n",
        "    df = df.copy()\n",
        "    df = df.sort_values('date').reset_index(drop=True)\n",
        "\n",
        "    if selected_lags is None:\n",
        "        # Use a strategic selection if no specific lags are provided\n",
        "        selected_lags = [1, 2, 3, 6, 12, 18, 36, 72, 144] # Ensure 6 and 144 are present\n",
        "    else:\n",
        "        # Ensure lags 6 and 144 are included if they are needed for ratios\n",
        "        required_lags = {6, 144}\n",
        "        selected_lags = list(set(selected_lags) | required_lags) # Add required lags\n",
        "\n",
        "    # Sort lags for consistent column order\n",
        "    selected_lags.sort()\n",
        "\n",
        "    for lag in selected_lags:\n",
        "        df[f'{target_col}_lag_{lag}'] = df[target_col].shift(lag)\n",
        "\n",
        "    # Create difference features (change from previous periods)\n",
        "    # Ensure the lags used for diff features exist in selected_lags (they should if 1 and 144 are included)\n",
        "    if 1 in selected_lags:\n",
        "        df[f'{target_col}_diff_1'] = df[target_col].diff(1)\n",
        "    if 6 in selected_lags: # Check if lag 6 was included\n",
        "         df[f'{target_col}_diff_6'] = df[target_col].diff(6)  # 1-hour difference\n",
        "    if 144 in selected_lags: # Check if lag 144 was included\n",
        "        df[f'{target_col}_diff_144'] = df[target_col].diff(144)  # 24-hour difference\n",
        "\n",
        "\n",
        "    # Create ratio features (current vs historical)\n",
        "    # These require specific lags to be present\n",
        "    if f'{target_col}_lag_6' in df.columns:\n",
        "         df[f'{target_col}_ratio_1h'] = df[target_col] / (df[f'{target_col}_lag_6'] + 1e-8)\n",
        "    if f'{target_col}_lag_144' in df.columns:\n",
        "        df[f'{target_col}_ratio_24h'] = df[target_col] / (df[f'{target_col}_lag_144'] + 1e-8)\n",
        "\n",
        "    return df\n",
        "\n",
        "# Select optimal lags based on autocorrelation analysis (as before)\n",
        "optimal_lags = significant_lags[:15] if len(significant_lags) >= 15 else significant_lags\n",
        "\n",
        "print(f\"Initial optimal lags from analysis: {optimal_lags}\")\n",
        "\n",
        "\n",
        "# Create lagged features\n",
        "# Pass optimal_lags, and the function will ensure required lags (6, 144) are added\n",
        "train_data = create_lag_features(train_data, selected_lags=optimal_lags)\n",
        "test_data = create_lag_features(test_data, selected_lags=optimal_lags)\n",
        "\n",
        "\n",
        "# Count lagged features (re-evaluating after feature creation)\n",
        "lag_features = [col for col in train_data.columns if '_lag_' in col or '_diff_' in col or '_ratio_' in col]\n",
        "print(f\" Created {len(lag_features)} lagged and derived features\")\n",
        "print(\"Example lagged features:\", [col for col in lag_features if '_lag_' in col][:5])\n",
        "print(\"Example diff features:\", [col for col in lag_features if '_diff_' in col][:3])\n",
        "print(\"Example ratio features:\", [col for col in lag_features if '_ratio_' in col][:2])\n",
        "\n",
        "\n",
        "# Handle missing values created by lagging (fill with forward fill)\n",
        "train_data = train_data.fillna(method='ffill').fillna(method='bfill')\n",
        "test_data = test_data.fillna(method='ffill').fillna(method='bfill')\n",
        "\n",
        "print(\" Missing values from lagging handled\")"
      ],
      "metadata": {
        "colab": {
          "base_uri": "https://localhost:8080/"
        },
        "id": "ALC3n9cz1K0K",
        "outputId": "55fcbfb6-ef7f-4499-ba87-bd0daa8ff6b8"
      },
      "execution_count": 6,
      "outputs": [
        {
          "output_type": "stream",
          "name": "stdout",
          "text": [
            "=== CREATING LAGGED FEATURES ===\n",
            "Initial optimal lags from analysis: [1, 2, 3, 4, 5, 6, 7, 8, 9, 10, 11, 12, 13, 14, 15]\n",
            " Created 21 lagged and derived features\n",
            "Example lagged features: ['Appliances_lag_1', 'Appliances_lag_2', 'Appliances_lag_3', 'Appliances_lag_4', 'Appliances_lag_5']\n",
            "Example diff features: ['Appliances_diff_1', 'Appliances_diff_6', 'Appliances_diff_144']\n",
            "Example ratio features: ['Appliances_ratio_1h', 'Appliances_ratio_24h']\n",
            " Missing values from lagging handled\n"
          ]
        }
      ]
    },
    {
      "cell_type": "markdown",
      "source": [
        "The creation of these lagged and derived features allows the model to understand and leverage temporal patterns and dependencies in the energy consumption data. By including short-term lags (1–15), the model can capture recent trends and fluctuations. Difference and ratio features highlight changes and relative behaviors in energy use over critical time intervals such as 10 minutes, 1 hour, and 24 hours, helping the model detect both sudden and cyclical patterns.\n",
        "\n",
        "This comprehensive set of features, derived from the significant lags identified by the autocorrelation analysis, provides a rich temporal context to the model, which is expected to improve predictive accuracy in forecasting appliance energy consumption."
      ],
      "metadata": {
        "id": "IpezZIQh41pS"
      }
    },
    {
      "cell_type": "markdown",
      "source": [
        "# Interaction Features"
      ],
      "metadata": {
        "id": "mzKV7YMs6mQv"
      }
    },
    {
      "cell_type": "code",
      "source": [
        "#Purpose: Create features that capture relationships between variables\n",
        "\n",
        "# Interaction Features Engineering\n",
        "print(\"=== INTERACTION FEATURES ENGINEERING ===\")\n",
        "\n",
        "def create_interaction_features(df):\n",
        "    \"\"\"Create meaningful interaction features\"\"\"\n",
        "    df = df.copy()\n",
        "\n",
        "    # Temperature-Humidity interactions (comfort index proxies)\n",
        "    df['temp_humidity_T1_RH1'] = df['T1'] * df['RH_1']\n",
        "    df['temp_humidity_Tout_RHout'] = df['T_out'] * df['RH_out']\n",
        "\n",
        "    # Indoor-Outdoor temperature differences\n",
        "    indoor_temps = ['T1', 'T2', 'T3', 'T4', 'T5', 'T6']\n",
        "    df['avg_indoor_temp'] = df[indoor_temps].mean(axis=1)\n",
        "    df['temp_diff_indoor_outdoor'] = df['avg_indoor_temp'] - df['T_out']\n",
        "\n",
        "    # Humidity differences\n",
        "    indoor_humidity = ['RH_1', 'RH_2', 'RH_3', 'RH_4', 'RH_5', 'RH_6']\n",
        "    df['avg_indoor_humidity'] = df[indoor_humidity].mean(axis=1)\n",
        "    df['humidity_diff_indoor_outdoor'] = df['avg_indoor_humidity'] - df['RH_out']\n",
        "\n",
        "    # Lights and time interaction\n",
        "    df['lights_evening'] = df['lights'] * df['is_peak_energy']\n",
        "    df['lights_working_hours'] = df['lights'] * df['is_working_hours']\n",
        "\n",
        "    # Weather comfort index\n",
        "    df['weather_comfort'] = df['T_out'] * (1 - df['RH_out']/100) * df['Visibility']\n",
        "\n",
        "    # Seasonal temperature patterns\n",
        "    df['temp_season_pattern'] = df['T_out'] * df['month_sin']\n",
        "\n",
        "    # Energy efficiency indicators\n",
        "    df['temp_per_energy'] = df['avg_indoor_temp'] / (df['Appliances'] + 1e-8)\n",
        "\n",
        "    return df\n",
        "\n",
        "# Apply interaction features\n",
        "train_data = create_interaction_features(train_data)\n",
        "test_data = create_interaction_features(test_data)\n",
        "\n",
        "# Count interaction features\n",
        "interaction_features = ['temp_humidity_T1_RH1', 'temp_humidity_Tout_RHout', 'avg_indoor_temp',\n",
        "                       'temp_diff_indoor_outdoor', 'avg_indoor_humidity', 'humidity_diff_indoor_outdoor',\n",
        "                       'lights_evening', 'lights_working_hours', 'weather_comfort',\n",
        "                       'temp_season_pattern', 'temp_per_energy']\n",
        "\n",
        "print(f\" Created {len(interaction_features)} interaction features\")\n",
        "print(\"Key interactions created:\")\n",
        "for feature in interaction_features:\n",
        "    print(f\"  • {feature}\")"
      ],
      "metadata": {
        "colab": {
          "base_uri": "https://localhost:8080/"
        },
        "id": "Zj1VHkPI6ncA",
        "outputId": "9c9ea454-d08c-436d-c194-cf058bfd3698"
      },
      "execution_count": 7,
      "outputs": [
        {
          "output_type": "stream",
          "name": "stdout",
          "text": [
            "=== INTERACTION FEATURES ENGINEERING ===\n",
            " Created 11 interaction features\n",
            "Key interactions created:\n",
            "  • temp_humidity_T1_RH1\n",
            "  • temp_humidity_Tout_RHout\n",
            "  • avg_indoor_temp\n",
            "  • temp_diff_indoor_outdoor\n",
            "  • avg_indoor_humidity\n",
            "  • humidity_diff_indoor_outdoor\n",
            "  • lights_evening\n",
            "  • lights_working_hours\n",
            "  • weather_comfort\n",
            "  • temp_season_pattern\n",
            "  • temp_per_energy\n"
          ]
        }
      ]
    },
    {
      "cell_type": "markdown",
      "source": [
        "n this step, we engineered 11 interaction features to capture important relationships between variables affecting energy consumption. These features include combinations of indoor and outdoor temperature and humidity, such as the product of temperature and humidity sensors and differences between indoor and outdoor measurements. We also created interaction terms between lighting and time-related flags (peak energy hours and working hours) to reflect varying energy use patterns. Additionally, weather comfort and seasonal temperature patterns were modeled using combined outdoor weather variables and monthly cycles. Finally, an energy efficiency indicator was added by calculating the ratio of indoor temperature to appliance energy consumption. These interaction features help the model better understand complex dependencies and improve its ability to predict energy usage accurately."
      ],
      "metadata": {
        "id": "KWK7O6lB8hSe"
      }
    },
    {
      "cell_type": "markdown",
      "source": [
        "# Domain-Specific Features"
      ],
      "metadata": {
        "id": "7B0_2W_J8pMb"
      }
    },
    {
      "cell_type": "code",
      "source": [
        "#Purpose: Add specialized energy consumption domain knowledge\n",
        "\n",
        "# Domain-Specific Energy Features\n",
        "print(\"=== DOMAIN-SPECIFIC ENERGY FEATURES ===\")\n",
        "\n",
        "def create_domain_specific_features(df):\n",
        "    \"\"\"Create features based on energy consumption domain knowledge\"\"\"\n",
        "    df = df.copy()\n",
        "\n",
        "    # Energy load categories based on consumption levels\n",
        "    df['energy_load_category'] = pd.cut(df['Appliances'],\n",
        "                                       bins=[0, 50, 100, 200, float('inf')],\n",
        "                                       labels=['Low', 'Medium', 'High', 'Very_High'])\n",
        "\n",
        "    # Convert to dummy variables\n",
        "    load_dummies = pd.get_dummies(df['energy_load_category'], prefix='load')\n",
        "    df = pd.concat([df, load_dummies], axis=1)\n",
        "    df.drop('energy_load_category', axis=1, inplace=True)\n",
        "\n",
        "    # Heating/Cooling demand indicators\n",
        "    # Typically, energy usage increases when indoor-outdoor temp difference is large\n",
        "    df['heating_demand'] = np.maximum(0, 18 - df['avg_indoor_temp'])  # Below 18°C needs heating\n",
        "    df['cooling_demand'] = np.maximum(0, df['avg_indoor_temp'] - 24)  # Above 24°C needs cooling\n",
        "\n",
        "    # Appliance efficiency score (lower is better efficiency)\n",
        "    df['appliance_efficiency'] = df['Appliances'] / (df['avg_indoor_temp'] + 1e-8)\n",
        "\n",
        "    # Seasonal energy patterns\n",
        "    df['is_winter_months'] = df['month'].isin([12, 1, 2]).astype(int)\n",
        "    df['is_summer_months'] = df['month'].isin([6, 7, 8]).astype(int)\n",
        "\n",
        "    # Base load vs variable load\n",
        "    # Base load is minimum consumption, variable load is excess\n",
        "    daily_min = df.groupby(df['date'].dt.date)['Appliances'].transform('min')\n",
        "    df['base_load'] = daily_min\n",
        "    df['variable_load'] = df['Appliances'] - df['base_load']\n",
        "\n",
        "    # Energy usage momentum (increasing/decreasing trend)\n",
        "    df['energy_momentum'] = df['Appliances_diff_1'].rolling(window=6).mean()\n",
        "\n",
        "    # Standby power indicator (very low but consistent usage)\n",
        "    df['is_standby_power'] = (df['Appliances'] < 20).astype(int)\n",
        "\n",
        "    return df\n",
        "\n",
        "# Apply domain-specific features\n",
        "train_data = create_domain_specific_features(train_data)\n",
        "test_data = create_domain_specific_features(test_data)\n",
        "\n",
        "# Count domain-specific features\n",
        "domain_features = ['load_High', 'load_Low', 'load_Medium', 'load_Very_High',\n",
        "                  'heating_demand', 'cooling_demand', 'appliance_efficiency',\n",
        "                  'is_winter_months', 'is_summer_months', 'base_load',\n",
        "                  'variable_load', 'energy_momentum', 'is_standby_power']\n",
        "\n",
        "print(f\" Created {len(domain_features)} domain-specific features\")\n",
        "print(\"Domain knowledge applied:\")\n",
        "for feature in domain_features:\n",
        "    print(f\"  • {feature}\")"
      ],
      "metadata": {
        "colab": {
          "base_uri": "https://localhost:8080/"
        },
        "id": "05p6xKNf80-j",
        "outputId": "0fa85b37-d0b1-4b47-94cc-6c28448e0be8"
      },
      "execution_count": 8,
      "outputs": [
        {
          "output_type": "stream",
          "name": "stdout",
          "text": [
            "=== DOMAIN-SPECIFIC ENERGY FEATURES ===\n",
            " Created 13 domain-specific features\n",
            "Domain knowledge applied:\n",
            "  • load_High\n",
            "  • load_Low\n",
            "  • load_Medium\n",
            "  • load_Very_High\n",
            "  • heating_demand\n",
            "  • cooling_demand\n",
            "  • appliance_efficiency\n",
            "  • is_winter_months\n",
            "  • is_summer_months\n",
            "  • base_load\n",
            "  • variable_load\n",
            "  • energy_momentum\n",
            "  • is_standby_power\n"
          ]
        }
      ]
    },
    {
      "cell_type": "markdown",
      "source": [
        "Incorporating domain-specific knowledge into feature engineering significantly enhances the model’s ability to understand energy consumption patterns. By categorizing energy load levels, the model can better differentiate usage intensity. Heating and cooling demand features reflect real-world HVAC energy requirements influenced by temperature variations, while seasonal indicators provide context for weather-related consumption changes. Distinguishing base load from variable load clarifies constant versus dynamic energy use, improving prediction accuracy. Efficiency and momentum metrics add depth by quantifying appliance performance and recent consumption trends. Lastly, identifying standby power helps isolate persistent low-level energy use. Together, these 13 features leverage domain insights to create a robust, interpretable dataset for energy consumption modeling."
      ],
      "metadata": {
        "id": "ECXpgCeE-NCz"
      }
    },
    {
      "cell_type": "markdown",
      "source": [
        "# Feature Selection - Correlation Analysis"
      ],
      "metadata": {
        "id": "Z97FwIo-AyTw"
      }
    },
    {
      "cell_type": "code",
      "source": [
        "#Purpose: Remove redundant features and identify most important ones\n",
        "\n",
        "# Feature Selection - Correlation Analysis\n",
        "print(\"=== FEATURE SELECTION: CORRELATION ANALYSIS ===\")\n",
        "\n",
        "# Get all numeric features (exclude date and categorical strings)\n",
        "all_features = [col for col in train_data.columns\n",
        "                if col not in ['date', 'WeekStatus'] and train_data[col].dtype != 'object']\n",
        "\n",
        "# Remove target variable\n",
        "feature_candidates = [col for col in all_features if col != 'Appliances']\n",
        "\n",
        "print(f\"Total feature candidates: {len(feature_candidates)}\")\n",
        "\n",
        "# Calculate correlation with target\n",
        "target_correlations = train_data[feature_candidates + ['Appliances']].corr()['Appliances']\n",
        "target_correlations = target_correlations.drop('Appliances').abs().sort_values(ascending=False)\n",
        "\n",
        "print(\"\\nTop 20 features by correlation with target:\")\n",
        "print(target_correlations.head(20))\n",
        "\n",
        "# Remove features with very low correlation (< 0.01)\n",
        "low_correlation_threshold = 0.01\n",
        "high_correlation_features = target_correlations[target_correlations >= low_correlation_threshold].index.tolist()\n",
        "\n",
        "print(f\"\\nFeatures with correlation >= {low_correlation_threshold}: {len(high_correlation_features)}\")\n",
        "\n",
        "# Check multicollinearity among high-correlation features\n",
        "feature_corr_matrix = train_data[high_correlation_features].corr()\n",
        "\n",
        "# Find highly correlated feature pairs\n",
        "def find_multicollinear_features(corr_matrix, threshold=0.95):\n",
        "    \"\"\"Find features that are highly correlated with each other\"\"\"\n",
        "    high_corr_pairs = []\n",
        "    features_to_remove = set()\n",
        "\n",
        "    for i in range(len(corr_matrix.columns)):\n",
        "        for j in range(i+1, len(corr_matrix.columns)):\n",
        "            corr_val = abs(corr_matrix.iloc[i, j])\n",
        "            if corr_val > threshold:\n",
        "                feature1, feature2 = corr_matrix.columns[i], corr_matrix.columns[j]\n",
        "                high_corr_pairs.append((feature1, feature2, corr_val))\n",
        "\n",
        "                # Keep the feature with higher target correlation\n",
        "                target_corr1 = abs(target_correlations.get(feature1, 0))\n",
        "                target_corr2 = abs(target_correlations.get(feature2, 0))\n",
        "\n",
        "                if target_corr1 > target_corr2:\n",
        "                    features_to_remove.add(feature2)\n",
        "                else:\n",
        "                    features_to_remove.add(feature1)\n",
        "\n",
        "    return high_corr_pairs, features_to_remove\n",
        "\n",
        "multicollinear_pairs, features_to_remove = find_multicollinear_features(feature_corr_matrix, 0.95)\n",
        "\n",
        "print(f\"\\nMulticollinear feature pairs found: {len(multicollinear_pairs)}\")\n",
        "print(f\"Features to remove due to multicollinearity: {len(features_to_remove)}\")\n",
        "\n",
        "# Remove multicollinear features\n",
        "selected_features_corr = [f for f in high_correlation_features if f not in features_to_remove]\n",
        "print(f\"Features after correlation selection: {len(selected_features_corr)}\")"
      ],
      "metadata": {
        "colab": {
          "base_uri": "https://localhost:8080/"
        },
        "id": "oFhz4OUYAzhI",
        "outputId": "1c8c6dd3-acd6-4435-fb74-8b95e816b488"
      },
      "execution_count": 9,
      "outputs": [
        {
          "output_type": "stream",
          "name": "stdout",
          "text": [
            "=== FEATURE SELECTION: CORRELATION ANALYSIS ===\n",
            "Total feature candidates: 118\n",
            "\n",
            "Top 20 features by correlation with target:\n",
            "variable_load                 0.997395\n",
            "load_Very_High                0.882849\n",
            "Appliances_lag_1              0.767503\n",
            "Appliances_rolling_max_1h     0.761090\n",
            "Appliances_rolling_mean_1h    0.740101\n",
            "Appliances_rolling_std_1h     0.702161\n",
            "Appliances_ratio_24h          0.695021\n",
            "Appliances_ratio_1h           0.653821\n",
            "Appliances_diff_144           0.617218\n",
            "Appliances_rolling_std_3h     0.601318\n",
            "Appliances_rolling_max_3h     0.597550\n",
            "Appliances_rolling_mean_3h    0.589944\n",
            "energy_momentum               0.575129\n",
            "Appliances_diff_6             0.575110\n",
            "Appliances_lag_2              0.563359\n",
            "Appliances_rolling_min_1h     0.562612\n",
            "rolling_mean                  0.530850\n",
            "Appliances_lag_3              0.460827\n",
            "Appliances_rolling_std_6h     0.459673\n",
            "load_Low                      0.445048\n",
            "Name: Appliances, dtype: float64\n",
            "\n",
            "Features with correlation >= 0.01: 103\n",
            "\n",
            "Multicollinear feature pairs found: 11\n",
            "Features to remove due to multicollinearity: 10\n",
            "Features after correlation selection: 93\n"
          ]
        }
      ]
    },
    {
      "cell_type": "markdown",
      "source": [
        "In this stage of the project, we conducted a detailed correlation-based feature selection to refine our input variables for appliance energy consumption prediction. Initially, the dataset included 118 numeric feature candidates after excluding non-numeric columns such as date, WeekStatus, and the target variable Appliances. We calculated the Pearson correlation coefficients between each feature and the target to assess the strength of their linear relationships. From this analysis, we found that several features exhibited strong correlations with the target, most notably variable_load (0.997), load_Very_High (0.883), and Appliances_lag_1 (0.768), indicating their potential importance in predicting appliance usage.\n",
        "\n",
        "To filter out noise, we applied a correlation threshold of 0.01, removing features with negligible relationship to the target. This reduced the feature count from 118 to 103. To address multicollinearity—where highly correlated features can introduce redundancy and overfitting in models—we examined pairwise correlations among the remaining features. We identified 11 multicollinear feature pairs with correlation coefficients above 0.95. Using a rule-based approach, we retained the feature with the higher correlation to the target in each pair and removed the less relevant one, eliminating 10 features.\n",
        "\n",
        "After this two-phase reduction process, we finalized a set of 93 well-correlated and non-redundant features. This curated feature set enhances model interpretability, reduces computational complexity, and mitigates the risks of multicollinearity, particularly in linear and tree-based models. The selected features are now ready for use in model training and evaluation phases, ensuring a balance between predictive power and generalizability."
      ],
      "metadata": {
        "id": "ymCU4izRLxdI"
      }
    },
    {
      "cell_type": "markdown",
      "source": [
        "# Feature Selection - Tree-Based Importance"
      ],
      "metadata": {
        "id": "2HCXsFUgMAZn"
      }
    },
    {
      "cell_type": "code",
      "source": [
        "#Purpose: Use machine learning to identify most predictive features\n",
        "\n",
        "# Feature Selection - Tree-Based Feature Importance\n",
        "print(\"=== FEATURE SELECTION: TREE-BASED IMPORTANCE ===\")\n",
        "\n",
        "# Prepare data for Random Forest\n",
        "X_train_features = train_data[selected_features_corr].fillna(0)\n",
        "y_train_target = train_data['Appliances']\n",
        "\n",
        "# Train Random Forest to get feature importances\n",
        "rf_selector = RandomForestRegressor(n_estimators=100, random_state=42, n_jobs=-1)\n",
        "rf_selector.fit(X_train_features, y_train_target)\n",
        "\n",
        "# Get feature importances\n",
        "feature_importance = pd.DataFrame({\n",
        "    'feature': X_train_features.columns,\n",
        "    'importance': rf_selector.feature_importances_\n",
        "}).sort_values('importance', ascending=False)\n",
        "\n",
        "print(\"Top 20 features by Random Forest importance:\")\n",
        "print(feature_importance.head(20))\n",
        "\n",
        "# Select top features based on importance\n",
        "importance_threshold = 0.01  # Keep features with at least 1% importance\n",
        "important_features = feature_importance[feature_importance['importance'] >= importance_threshold]['feature'].tolist()\n",
        "\n",
        "print(f\"\\nFeatures with importance >= {importance_threshold}: {len(important_features)}\")\n",
        "\n",
        "# Visualize feature importance\n",
        "plt.figure(figsize=(12, 8))\n",
        "top_20_features = feature_importance.head(20)\n",
        "sns.barplot(data=top_20_features, y='feature', x='importance')\n",
        "plt.title('Top 20 Feature Importances (Random Forest)')\n",
        "plt.xlabel('Importance Score')\n",
        "plt.tight_layout()\n",
        "plt.show()"
      ],
      "metadata": {
        "colab": {
          "base_uri": "https://localhost:8080/",
          "height": 1000
        },
        "id": "aNlx8NoDMBm-",
        "outputId": "759cc217-833e-4b1c-ca52-0d2764beffe5"
      },
      "execution_count": 10,
      "outputs": [
        {
          "output_type": "stream",
          "name": "stdout",
          "text": [
            "=== FEATURE SELECTION: TREE-BASED IMPORTANCE ===\n",
            "Top 20 features by Random Forest importance:\n",
            "                       feature  importance\n",
            "0                variable_load    0.720644\n",
            "1               load_Very_High    0.264608\n",
            "46                 load_Medium    0.005109\n",
            "15                    load_Low    0.004839\n",
            "64                   base_load    0.001866\n",
            "57                   load_High    0.001643\n",
            "12   Appliances_rolling_min_1h    0.001025\n",
            "69  Appliances_rolling_min_24h    0.000073\n",
            "3    Appliances_rolling_max_1h    0.000036\n",
            "21           Appliances_diff_1    0.000015\n",
            "80                     day_sin    0.000010\n",
            "18   Appliances_rolling_min_3h    0.000009\n",
            "86                          T9    0.000009\n",
            "81                          T5    0.000008\n",
            "70                          T4    0.000006\n",
            "71  Appliances_rolling_min_12h    0.000006\n",
            "59             avg_indoor_temp    0.000004\n",
            "58                          T3    0.000004\n",
            "63                          T1    0.000003\n",
            "32             temp_per_energy    0.000003\n",
            "\n",
            "Features with importance >= 0.01: 2\n"
          ]
        },
        {
          "output_type": "display_data",
          "data": {
            "text/plain": [
              "<Figure size 1200x800 with 1 Axes>"
            ],
            "image/png": "[encoded data removed]"
          },
          "metadata": {}
        }
      ]
    },
    {
      "cell_type": "markdown",
      "source": [
        "In this phase, we employed a tree-based approach using the Random Forest Regressor to identify the most predictive features for forecasting appliance energy consumption. The model was trained on the refined set of 93 features obtained from prior correlation analysis. Random Forest provides an inherent mechanism to evaluate feature importance by measuring how each feature decreases the prediction error when used in tree splits.\n",
        "\n",
        "The results revealed a strong dominance of two features: variable_load, which alone contributed approximately 72% of the model's total predictive importance, and load_Very_High, contributing an additional 26%. Collectively, these two features account for 98.5% of the model’s learning capacity. All other features contributed less than 1% each, with the majority nearing zero importance. This distribution suggests that the prediction of appliance energy usage in this context is largely explained by these two variables.\n",
        "\n",
        "Applying a minimum importance threshold of 0.01, only two features were retained for further model development. This significant narrowing of the feature set emphasizes the efficiency and interpretability Random Forests bring to feature selection, especially when the dataset contains many derived or engineered variables. Reducing the model to focus on just these high-impact features can potentially improve performance, reduce overfitting, and decrease computational overhead in subsequent modeling stages."
      ],
      "metadata": {
        "id": "TiRp693FNF15"
      }
    },
    {
      "cell_type": "markdown",
      "source": [
        "# Feature Selection - Statistical Tests"
      ],
      "metadata": {
        "id": "6wj5-zI2NRg3"
      }
    },
    {
      "cell_type": "code",
      "source": [
        "#Purpose: Apply statistical tests to validate feature significance\n",
        "\n",
        " # Feature Selection - Statistical Significance Tests\n",
        "print(\"=== FEATURE SELECTION: STATISTICAL TESTS ===\")\n",
        "\n",
        "from sklearn.feature_selection import f_regression, mutual_info_regression\n",
        "\n",
        "# Apply F-test for regression\n",
        "X_important = train_data[important_features].fillna(0)\n",
        "f_scores, f_pvalues = f_regression(X_important, y_train_target)\n",
        "\n",
        "# Create F-test results dataframe\n",
        "f_test_results = pd.DataFrame({\n",
        "    'feature': important_features,\n",
        "    'f_score': f_scores,\n",
        "    'p_value': f_pvalues\n",
        "}).sort_values('f_score', ascending=False)\n",
        "\n",
        "# Filter features with significant p-values (p < 0.05)\n",
        "significant_features = f_test_results[f_test_results['p_value'] < 0.05]['feature'].tolist()\n",
        "\n",
        "print(f\"Statistically significant features (p < 0.05): {len(significant_features)}\")\n",
        "print(\"\\nTop 15 features by F-score:\")\n",
        "print(f_test_results.head(15))\n",
        "\n",
        "# Apply mutual information for non-linear relationships\n",
        "mi_scores = mutual_info_regression(X_important, y_train_target, random_state=42)\n",
        "\n",
        "mi_results = pd.DataFrame({\n",
        "    'feature': important_features,\n",
        "    'mutual_info': mi_scores\n",
        "}).sort_values('mutual_info', ascending=False)\n",
        "\n",
        "print(\"\\nTop 15 features by Mutual Information:\")\n",
        "print(mi_results.head(15))\n",
        "\n",
        "# Combine all selection methods\n",
        "final_features = list(set(\n",
        "    target_correlations.head(30).index.tolist() +  # Top 30 by correlation\n",
        "    important_features[:30] +  # Top 30 by importance\n",
        "    significant_features[:30] +  # Top 30 by F-test\n",
        "    mi_results.head(20)['feature'].tolist()  # Top 20 by mutual info\n",
        "))\n",
        "\n",
        "print(f\"\\nFinal combined feature set: {len(final_features)} features\")"
      ],
      "metadata": {
        "colab": {
          "base_uri": "https://localhost:8080/"
        },
        "id": "j8lU-VNPNTGA",
        "outputId": "334aa869-f6e9-4538-c000-dd44c8c0569f"
      },
      "execution_count": 11,
      "outputs": [
        {
          "output_type": "stream",
          "name": "stdout",
          "text": [
            "=== FEATURE SELECTION: STATISTICAL TESTS ===\n",
            "Statistically significant features (p < 0.05): 2\n",
            "\n",
            "Top 15 features by F-score:\n",
            "          feature       f_score  p_value\n",
            "0   variable_load  3.018121e+06      0.0\n",
            "1  load_Very_High  5.578084e+04      0.0\n",
            "\n",
            "Top 15 features by Mutual Information:\n",
            "          feature  mutual_info\n",
            "0   variable_load     1.893360\n",
            "1  load_Very_High     0.333978\n",
            "\n",
            "Final combined feature set: 30 features\n"
          ]
        }
      ]
    },
    {
      "cell_type": "markdown",
      "source": [
        "In this step, we applied statistical tests to validate the significance of the features identified from earlier stages. Specifically, we used the F-test for regression and Mutual Information scoring to assess the linear and non-linear relationships between features and the target variable, respectively.\n",
        "\n",
        "The F-test results revealed that both variable_load and load_Very_High were statistically significant predictors of appliance energy consumption, with exceptionally high F-scores and p-values of 0.0—well below the 0.05 significance threshold. This confirms their strong linear association with the target variable.\n",
        "\n",
        "To further account for potential non-linear relationships, we applied Mutual Information regression. Again, the same two features stood out, with variable_load achieving the highest mutual information score (1.89), indicating a robust and non-linear dependence on the energy consumption patterns.\n",
        "\n",
        "To finalize the feature set for modeling, we combined the top features from four different approaches: correlation ranking, tree-based importance, statistical significance (F-test), and mutual information scores. This integrated selection strategy produced a comprehensive and refined set of 30 final features, ensuring that the most statistically and predictively meaningful variables are retained for the upcoming model development phase."
      ],
      "metadata": {
        "id": "p9WEZgLFOFos"
      }
    },
    {
      "cell_type": "markdown",
      "source": [
        "# Final Feature Set Creation"
      ],
      "metadata": {
        "id": "yhQMN14mOMwT"
      }
    },
    {
      "cell_type": "code",
      "source": [
        "#Purpose: Create the final optimized feature set for modeling\n",
        "\n",
        "# Final Feature Set Creation and Validation\n",
        "print(\"=== FINAL FEATURE SET CREATION ===\")\n",
        "\n",
        "# Ensure we have the target in our data for final correlation check\n",
        "final_features_with_target = final_features + ['Appliances']\n",
        "\n",
        "# Final correlation analysis with selected features\n",
        "final_corr_matrix = train_data[final_features_with_target].corr()\n",
        "final_target_corr = final_corr_matrix['Appliances'].drop('Appliances').abs().sort_values(ascending=False)\n",
        "\n",
        "print(\"Final feature set correlation with target:\")\n",
        "print(final_target_corr.head(15))\n",
        "\n",
        "# Create final datasets\n",
        "X_train_final = train_data[final_features].fillna(0)\n",
        "X_test_final = test_data[final_features].fillna(0)\n",
        "y_train_final = train_data['Appliances']\n",
        "y_test_final = test_data['Appliances']\n",
        "\n",
        "print(f\"\\nFinal feature matrices:\")\n",
        "print(f\"X_train shape: {X_train_final.shape}\")\n",
        "print(f\"X_test shape: {X_test_final.shape}\")\n",
        "\n",
        "# Feature categories summary\n",
        "feature_categories = {\n",
        "    'Time-based': [f for f in final_features if any(x in f for x in ['hour', 'day', 'month', 'time_', 'is_'])],\n",
        "    'Rolling/Lagged': [f for f in final_features if any(x in f for x in ['rolling', 'lag_', 'diff_', 'ratio_'])],\n",
        "    'Interaction': [f for f in final_features if any(x in f for x in ['temp_humidity', 'diff_indoor', 'lights_'])],\n",
        "    'Domain-specific': [f for f in final_features if any(x in f for x in ['load_', 'demand', 'efficiency', 'base_load'])],\n",
        "    'Original': [f for f in final_features if f in ['T1', 'T2', 'T3', 'T4', 'T5', 'T6', 'T_out', 'RH_1', 'RH_2', 'RH_3', 'RH_4', 'RH_5', 'RH_6', 'RH_out', 'lights', 'Windspeed', 'Visibility', 'Press_mm_hg']]\n",
        "}\n",
        "\n",
        "print(f\"\\nFeature categories breakdown:\")\n",
        "for category, features in feature_categories.items():\n",
        "    print(f\"  {category}: {len(features)} features\")\n",
        "\n",
        "# Save final feature set\n",
        "import joblib\n",
        "joblib.dump(final_features, 'final_feature_list.pkl')\n",
        "\n",
        "# Save final datasets\n",
        "np.save('X_train_final.npy', X_train_final.values)\n",
        "np.save('X_test_final.npy', X_test_final.values)\n",
        "np.save('y_train_final.npy', y_train_final.values)\n",
        "np.save('y_test_final.npy', y_test_final.values)\n",
        "\n",
        "print(f\"\\n Final feature engineering complete!\")\n",
        "print(f\" Total features created: {len(final_features)}\")\n",
        "print(f\" Data saved for model development\")"
      ],
      "metadata": {
        "colab": {
          "base_uri": "https://localhost:8080/"
        },
        "id": "vEgbivi2OOIM",
        "outputId": "34bfa368-ef3d-45a3-e7a2-d61ea37b4a8f"
      },
      "execution_count": 12,
      "outputs": [
        {
          "output_type": "stream",
          "name": "stdout",
          "text": [
            "=== FINAL FEATURE SET CREATION ===\n",
            "Final feature set correlation with target:\n",
            "variable_load                 0.997395\n",
            "load_Very_High                0.882849\n",
            "Appliances_lag_1              0.767503\n",
            "Appliances_rolling_max_1h     0.761090\n",
            "Appliances_rolling_mean_1h    0.740101\n",
            "Appliances_rolling_std_1h     0.702161\n",
            "Appliances_ratio_24h          0.695021\n",
            "Appliances_ratio_1h           0.653821\n",
            "Appliances_diff_144           0.617218\n",
            "Appliances_rolling_std_3h     0.601318\n",
            "Appliances_rolling_max_3h     0.597550\n",
            "Appliances_rolling_mean_3h    0.589944\n",
            "energy_momentum               0.575129\n",
            "Appliances_diff_6             0.575110\n",
            "Appliances_lag_2              0.563359\n",
            "Name: Appliances, dtype: float64\n",
            "\n",
            "Final feature matrices:\n",
            "X_train shape: (15788, 30)\n",
            "X_test shape: (3947, 30)\n",
            "\n",
            "Feature categories breakdown:\n",
            "  Time-based: 0 features\n",
            "  Rolling/Lagged: 26 features\n",
            "  Interaction: 0 features\n",
            "  Domain-specific: 2 features\n",
            "  Original: 0 features\n",
            "\n",
            " Final feature engineering complete!\n",
            " Total features created: 30\n",
            " Data saved for model development\n"
          ]
        }
      ]
    },
    {
      "cell_type": "markdown",
      "source": [
        "To finalize the predictive modeling pipeline, we created a refined feature set by combining the top features identified through correlation analysis, tree-based importance scores, F-tests, and mutual information. This resulted in a compact and optimized set of 30 features designed to maximize predictive performance.\n",
        "\n",
        "A final correlation analysis with the target variable (Appliances) confirmed that features like variable_load (correlation: 0.997), load_Very_High (correlation: 0.882), and multiple lagged and rolling features of energy usage exhibited strong associations with the target. This highlights the effectiveness of incorporating time-series dynamics into the feature space.\n",
        "\n",
        "An analysis of the feature categories showed that Rolling and Lagged features dominated the set (26 features), emphasizing the importance of temporal dependencies in energy consumption prediction. Only 2 features were from the domain-specific category (variable_load, load_Very_High), and no time-based, interaction, or original sensor features made it to the final list, as they were outperformed in earlier evaluations.\n",
        "\n",
        "The final datasets (X_train_final, X_test_final, y_train_final, and y_test_final) were saved, along with the selected feature list (final_feature_list.pkl), to support reproducible and scalable model development in the next phase.\n"
      ],
      "metadata": {
        "id": "NCylMdpYPF5X"
      }
    },
    {
      "cell_type": "markdown",
      "source": [
        "# Feature Engineering Summary Report"
      ],
      "metadata": {
        "id": "id4dwHXqPLEm"
      }
    },
    {
      "cell_type": "code",
      "source": [
        "print(f\"   • Lagged features: {len([f for f in final_features if 'lag_' in f])}\")\n",
        "print(f\"   • Difference features: {len([f for f in final_features if 'diff_' in f])}\")\n",
        "print(f\"   • Ratio features: {len([f for f in final_features if 'ratio_' in f])}\")\n",
        "print(f\"   • Interaction features: {len([f for f in final_features if any(x in f for x in ['temp_humidity', 'diff_indoor', 'lights_'])])}\")\n",
        "print(f\"   • Domain-specific features: {len([f for f in final_features if any(x in f for x in ['load_', 'demand', 'efficiency', 'base_load'])])}\")\n",
        "print(f\"   • Original sensor features: {len([f for f in final_features if f in ['T1', 'T2', 'T3', 'T4', 'T5', 'T6', 'T_out', 'RH_1', 'RH_2', 'RH_3', 'RH_4', 'RH_5', 'RH_6', 'RH_out', 'lights', 'Windspeed', 'Visibility', 'Press_mm_hg']])}\")\n",
        "\n",
        "print(f\"\\n FINAL FEATURE SET DETAILS:\")\n",
        "print(f\"   • Total selected features: {len(final_features)}\")\n",
        "print(f\"   • Training samples: {X_train_final.shape[0]}\")\n",
        "print(f\"   • Testing samples: {X_test_final.shape[0]}\")\n",
        "print(f\"   • Features per sample: {X_train_final.shape[1]}\")\n",
        "\n",
        "print(f\"\\nTOP FEATURES BY CORRELATION WITH TARGET (Appliances):\")\n",
        "top_corr_features = final_target_corr.head(10)\n",
        "for feature, corr in top_corr_features.items():\n",
        "    print(f\"   • {feature}: {corr:.4f}\")\n",
        "\n"
      ],
      "metadata": {
        "colab": {
          "base_uri": "https://localhost:8080/"
        },
        "id": "snPDGURJPMNG",
        "outputId": "fb4ffd75-d887-486b-8a01-f46c6e4f0409"
      },
      "execution_count": 13,
      "outputs": [
        {
          "output_type": "stream",
          "name": "stdout",
          "text": [
            "   • Lagged features: 9\n",
            "   • Difference features: 3\n",
            "   • Ratio features: 2\n",
            "   • Interaction features: 0\n",
            "   • Domain-specific features: 2\n",
            "   • Original sensor features: 0\n",
            "\n",
            " FINAL FEATURE SET DETAILS:\n",
            "   • Total selected features: 30\n",
            "   • Training samples: 15788\n",
            "   • Testing samples: 3947\n",
            "   • Features per sample: 30\n",
            "\n",
            "TOP FEATURES BY CORRELATION WITH TARGET (Appliances):\n",
            "   • variable_load: 0.9974\n",
            "   • load_Very_High: 0.8828\n",
            "   • Appliances_lag_1: 0.7675\n",
            "   • Appliances_rolling_max_1h: 0.7611\n",
            "   • Appliances_rolling_mean_1h: 0.7401\n",
            "   • Appliances_rolling_std_1h: 0.7022\n",
            "   • Appliances_ratio_24h: 0.6950\n",
            "   • Appliances_ratio_1h: 0.6538\n",
            "   • Appliances_diff_144: 0.6172\n",
            "   • Appliances_rolling_std_3h: 0.6013\n"
          ]
        }
      ]
    }
  ]
}